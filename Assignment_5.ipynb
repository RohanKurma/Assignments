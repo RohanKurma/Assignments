{
 "cells": [
  {
   "cell_type": "code",
   "execution_count": null,
   "id": "cf69bd33",
   "metadata": {},
   "outputs": [],
   "source": []
  },
  {
   "cell_type": "code",
   "execution_count": 1,
   "id": "a643677f",
   "metadata": {},
   "outputs": [],
   "source": [
    "class Circle:\n",
    "    def __init__(self, c, r):\n",
    "        self.c = c\n",
    "        self.r = r\n",
    "\n",
    "class Point:\n",
    "    def __init__(self, x=0,y=0):\n",
    "        self.x = x\n",
    "        self.y = y\n",
    "\n",
    "class Rectangle:\n",
    "    def __init__(self, cor1=0, cor2=0, cor3=0, cor4=0):\n",
    "\n",
    "        self.__cor1 = cor1\n",
    "        self.__cor2 = cor2\n",
    "        self.__cor3 = cor3\n",
    "        self.__cor4 = cor4\n",
    "\n"
   ]
  },
  {
   "cell_type": "code",
   "execution_count": 2,
   "id": "6993666f",
   "metadata": {},
   "outputs": [],
   "source": [
    "def rect_in_circle(Circle, Rectangle):\n",
    "    c = Circle.c\n",
    "    r = Circle.r\n",
    "    \n",
    "    result = []\n",
    "\n",
    "    for k, v in vars(rect1).items():\n",
    "\n",
    "        dist = (c.x - v.x)**2 + (c.y - v.y)**2\n",
    "        if dist <= r**2:\n",
    "            result.append(True)\n",
    "        else:\n",
    "            result.append(False)\n",
    "            \n",
    "            \n",
    "    if all(result):\n",
    "        return True\n",
    "\n",
    "    else:\n",
    "        return False\n",
    "        \n"
   ]
  },
  {
   "cell_type": "code",
   "execution_count": 3,
   "id": "a08e2c3f",
   "metadata": {},
   "outputs": [],
   "source": [
    "def rect_circle_overlap(Circle,Rectangle):\n",
    "    c = Circle.c\n",
    "    r = Circle.r\n",
    "\n",
    "    result =[]\n",
    "\n",
    "    for k, v in vars(rect1).items():\n",
    "\n",
    "        dist = (c.x - v.x)**2 + (c.y - v.y)**2\n",
    "        if dist <= r**2:\n",
    "            result.append(True)\n",
    "        else:\n",
    "            result.append(False)\n",
    "    if any(result):\n",
    "        return True\n",
    "\n",
    "    else:\n",
    "        return False\n",
    "        "
   ]
  },
  {
   "cell_type": "code",
   "execution_count": 4,
   "id": "76dc9c0c",
   "metadata": {},
   "outputs": [
    {
     "name": "stdout",
     "output_type": "stream",
     "text": [
      "False\n",
      "True\n"
     ]
    }
   ],
   "source": [
    "circle = Circle\n",
    "circle.c = Point\n",
    "circle.c.x = 150.0\n",
    "circle.c.y = 100.0\n",
    "circle.r = 75.0\n",
    "\n",
    "rect1 = Rectangle(Point(150,100),Point(150,100),Point(120,90),Point(12,100))\n",
    "        \n",
    "print(rect_in_circle(circle, rect1))\n",
    "print(rect_circle_overlap(circle, rect1))"
   ]
  },
  {
   "cell_type": "code",
   "execution_count": null,
   "id": "d6c8cad1",
   "metadata": {},
   "outputs": [],
   "source": []
  }
 ],
 "metadata": {
  "kernelspec": {
   "display_name": "Python 3 (ipykernel)",
   "language": "python",
   "name": "python3"
  },
  "language_info": {
   "codemirror_mode": {
    "name": "ipython",
    "version": 3
   },
   "file_extension": ".py",
   "mimetype": "text/x-python",
   "name": "python",
   "nbconvert_exporter": "python",
   "pygments_lexer": "ipython3",
   "version": "3.9.12"
  }
 },
 "nbformat": 4,
 "nbformat_minor": 5
}
